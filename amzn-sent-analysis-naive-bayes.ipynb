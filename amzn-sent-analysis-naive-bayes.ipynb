{
 "cells": [
  {
   "cell_type": "markdown",
   "metadata": {},
   "source": [
    "# Sentiment Analysis of Amazon Reviews: Naive Bayes\n",
    "## By Timothy Pace\n",
    "This program builds a multinomial Naive Bayes model for sentiment analysis of Amazon reviews. The original Kaggle dataset can be found at: https://www.kaggle.com/bittlingmayer/amazonreviews"
   ]
  },
  {
   "cell_type": "code",
   "execution_count": 1,
   "metadata": {
    "_cell_guid": "b1076dfc-b9ad-4769-8c92-a6c4dae69d19",
    "_uuid": "8f2839f25d086af736a60e9eeb907d3b93b6e0e5"
   },
   "outputs": [],
   "source": [
    "import numpy as np\n",
    "import pandas as pd\n",
    "pd.options.display.max_rows = 100\n",
    "import bz2\n",
    "import re\n",
    "import os\n",
    "import gc\n",
    "\n",
    "from nltk.corpus import stopwords\n",
    "from nltk import PorterStemmer\n",
    "\n",
    "from sklearn.metrics import auc, roc_curve\n",
    "\n",
    "from sklearn.pipeline import Pipeline\n",
    "from sklearn.naive_bayes import MultinomialNB\n",
    "from sklearn.feature_extraction.text import CountVectorizer, TfidfTransformer\n",
    "\n",
    "import multiprocessing\n",
    "\n",
    "import matplotlib.pyplot as plt\n",
    "from matplotlib.pyplot import figure"
   ]
  },
  {
   "cell_type": "markdown",
   "metadata": {
    "_uuid": "400fa34d9a714a22a20259ba3140a030551e1986"
   },
   "source": [
    "### Gets the Data"
   ]
  },
  {
   "cell_type": "code",
   "execution_count": 2,
   "metadata": {
    "_cell_guid": "79c7e3d0-c299-4dcb-8224-4455121ee9b0",
    "_uuid": "d629ff2d2480ee46fbb7e2d37f6b5fab8052498a"
   },
   "outputs": [],
   "source": [
    "train = bz2.BZ2File('./data/amazonreviews/train.ft.txt.bz2')\n",
    "test = bz2.BZ2File('./data/amazonreviews/test.ft.txt.bz2')\n"
   ]
  },
  {
   "cell_type": "code",
   "execution_count": 3,
   "metadata": {
    "_cell_guid": "d554f2ba-0eeb-4764-b1df-febfbdda5c2c",
    "_uuid": "93213b70d17edcdeeba304a7344e415733d0ce17"
   },
   "outputs": [],
   "source": [
    "train = train.readlines()\n",
    "test = test.readlines()\n"
   ]
  },
  {
   "cell_type": "code",
   "execution_count": 4,
   "metadata": {},
   "outputs": [
    {
     "data": {
      "text/plain": [
       "7"
      ]
     },
     "execution_count": 4,
     "metadata": {},
     "output_type": "execute_result"
    }
   ],
   "source": [
    "gc.collect()\n"
   ]
  },
  {
   "cell_type": "markdown",
   "metadata": {
    "_uuid": "0357f1f5175f121b2d2435fd7e2477f4b2a0e17e"
   },
   "source": [
    "### Pre-Processes the Data & Performs Exploratory Data Analysis"
   ]
  },
  {
   "cell_type": "code",
   "execution_count": 5,
   "metadata": {},
   "outputs": [],
   "source": [
    "train = [x.decode('utf-8') for x in train]\n",
    "test = [x.decode('utf-8') for x in test]\n"
   ]
  },
  {
   "cell_type": "code",
   "execution_count": 6,
   "metadata": {
    "_cell_guid": "dcc69630-91ef-4a06-9eb4-56c4b0390a49",
    "_uuid": "539afb8a439f11442ad8ca5c1de042a3a310462f",
    "scrolled": true
   },
   "outputs": [
    {
     "name": "stdout",
     "output_type": "stream",
     "text": [
      "[1, 1, 1]\n",
      "['Stuning even for the non-gamer: This sound track was beautiful! It paints the senery in your mind so well I would recomend it even to people who hate vid. game music! I have played the game Chrono Cross but out of all of the games I have ever played it has the best music! It backs away from crude keyboarding and takes a fresher step with grate guitars and soulful orchestras. It would impress anyone who cares to listen! ^_^', \"The best soundtrack ever to anything.: I'm reading a lot of reviews saying that this is the best 'game soundtrack' and I figured that I'd write a review to disagree a bit. This in my opinino is Yasunori Mitsuda's ultimate masterpiece. The music is timeless and I'm been listening to it for years now and its beauty simply refuses to fade.The price tag on this is pretty staggering I must say, but if you are going to buy any cd for this much money, this is the only one that I feel would be worth every penny.\", 'Amazing!: This soundtrack is my favorite music of all time, hands down. The intense sadness of \"Prisoners of Fate\" (which means all the more if you\\'ve played the game) and the hope in \"A Distant Promise\" and \"Girl who Stole the Star\" have been an important inspiration to me personally throughout my teen years. The higher energy tracks like \"Chrono Cross ~ Time\\'s Scar~\", \"Time of the Dreamwatch\", and \"Chronomantique\" (indefinably remeniscent of Chrono Trigger) are all absolutely superb as well.This soundtrack is amazing music, probably the best of this composer\\'s work (I haven\\'t heard the Xenogears soundtrack, so I can\\'t say for sure), and even if you\\'ve never played the game, it would be worth twice the price to buy it.I wish I could give it 6 stars.']\n"
     ]
    }
   ],
   "source": [
    "train_labels = [0 if x.split(' ')[0] == '__label__1' else 1 for x in train]\n",
    "train_corpus = [x.split(' ', 1)[1][:-1] for x in train]\n",
    "\n",
    "print(train_labels[:3])\n",
    "print(train_corpus[:3])\n"
   ]
  },
  {
   "cell_type": "code",
   "execution_count": 7,
   "metadata": {},
   "outputs": [
    {
     "data": {
      "text/plain": [
       "0"
      ]
     },
     "execution_count": 7,
     "metadata": {},
     "output_type": "execute_result"
    }
   ],
   "source": [
    "del train\n",
    "gc.collect()\n"
   ]
  },
  {
   "cell_type": "code",
   "execution_count": 8,
   "metadata": {},
   "outputs": [
    {
     "data": {
      "text/html": [
       "<div>\n",
       "<style scoped>\n",
       "    .dataframe tbody tr th:only-of-type {\n",
       "        vertical-align: middle;\n",
       "    }\n",
       "\n",
       "    .dataframe tbody tr th {\n",
       "        vertical-align: top;\n",
       "    }\n",
       "\n",
       "    .dataframe thead th {\n",
       "        text-align: right;\n",
       "    }\n",
       "</style>\n",
       "<table border=\"1\" class=\"dataframe\">\n",
       "  <thead>\n",
       "    <tr style=\"text-align: right;\">\n",
       "      <th></th>\n",
       "      <th>text</th>\n",
       "      <th>labels</th>\n",
       "    </tr>\n",
       "  </thead>\n",
       "  <tbody>\n",
       "    <tr>\n",
       "      <th>0</th>\n",
       "      <td>Stuning even for the non-gamer: This sound tra...</td>\n",
       "      <td>1</td>\n",
       "    </tr>\n",
       "    <tr>\n",
       "      <th>1</th>\n",
       "      <td>The best soundtrack ever to anything.: I'm rea...</td>\n",
       "      <td>1</td>\n",
       "    </tr>\n",
       "    <tr>\n",
       "      <th>2</th>\n",
       "      <td>Amazing!: This soundtrack is my favorite music...</td>\n",
       "      <td>1</td>\n",
       "    </tr>\n",
       "    <tr>\n",
       "      <th>3</th>\n",
       "      <td>Excellent Soundtrack: I truly like this soundt...</td>\n",
       "      <td>1</td>\n",
       "    </tr>\n",
       "    <tr>\n",
       "      <th>4</th>\n",
       "      <td>Remember, Pull Your Jaw Off The Floor After He...</td>\n",
       "      <td>1</td>\n",
       "    </tr>\n",
       "  </tbody>\n",
       "</table>\n",
       "</div>"
      ],
      "text/plain": [
       "                                                text  labels\n",
       "0  Stuning even for the non-gamer: This sound tra...       1\n",
       "1  The best soundtrack ever to anything.: I'm rea...       1\n",
       "2  Amazing!: This soundtrack is my favorite music...       1\n",
       "3  Excellent Soundtrack: I truly like this soundt...       1\n",
       "4  Remember, Pull Your Jaw Off The Floor After He...       1"
      ]
     },
     "execution_count": 8,
     "metadata": {},
     "output_type": "execute_result"
    }
   ],
   "source": [
    "train_dict = {'text': train_corpus, 'labels': train_labels}\n",
    "train_df = pd.DataFrame(train_dict)\n",
    "\n",
    "train_df.head()\n"
   ]
  },
  {
   "cell_type": "code",
   "execution_count": 9,
   "metadata": {},
   "outputs": [
    {
     "data": {
      "text/html": [
       "<div>\n",
       "<style scoped>\n",
       "    .dataframe tbody tr th:only-of-type {\n",
       "        vertical-align: middle;\n",
       "    }\n",
       "\n",
       "    .dataframe tbody tr th {\n",
       "        vertical-align: top;\n",
       "    }\n",
       "\n",
       "    .dataframe thead th {\n",
       "        text-align: right;\n",
       "    }\n",
       "</style>\n",
       "<table border=\"1\" class=\"dataframe\">\n",
       "  <thead>\n",
       "    <tr style=\"text-align: right;\">\n",
       "      <th></th>\n",
       "      <th>labels</th>\n",
       "    </tr>\n",
       "  </thead>\n",
       "  <tbody>\n",
       "    <tr>\n",
       "      <th>count</th>\n",
       "      <td>3600000.0</td>\n",
       "    </tr>\n",
       "    <tr>\n",
       "      <th>mean</th>\n",
       "      <td>0.5</td>\n",
       "    </tr>\n",
       "    <tr>\n",
       "      <th>std</th>\n",
       "      <td>0.5</td>\n",
       "    </tr>\n",
       "    <tr>\n",
       "      <th>min</th>\n",
       "      <td>0.0</td>\n",
       "    </tr>\n",
       "    <tr>\n",
       "      <th>25%</th>\n",
       "      <td>0.0</td>\n",
       "    </tr>\n",
       "    <tr>\n",
       "      <th>50%</th>\n",
       "      <td>0.5</td>\n",
       "    </tr>\n",
       "    <tr>\n",
       "      <th>75%</th>\n",
       "      <td>1.0</td>\n",
       "    </tr>\n",
       "    <tr>\n",
       "      <th>max</th>\n",
       "      <td>1.0</td>\n",
       "    </tr>\n",
       "  </tbody>\n",
       "</table>\n",
       "</div>"
      ],
      "text/plain": [
       "          labels\n",
       "count  3600000.0\n",
       "mean         0.5\n",
       "std          0.5\n",
       "min          0.0\n",
       "25%          0.0\n",
       "50%          0.5\n",
       "75%          1.0\n",
       "max          1.0"
      ]
     },
     "execution_count": 9,
     "metadata": {},
     "output_type": "execute_result"
    }
   ],
   "source": [
    "train_df.describe()\n"
   ]
  },
  {
   "cell_type": "code",
   "execution_count": 10,
   "metadata": {},
   "outputs": [
    {
     "data": {
      "text/plain": [
       "7"
      ]
     },
     "execution_count": 10,
     "metadata": {},
     "output_type": "execute_result"
    }
   ],
   "source": [
    "del train_labels, train_corpus\n",
    "gc.collect()\n"
   ]
  },
  {
   "cell_type": "code",
   "execution_count": 11,
   "metadata": {
    "scrolled": true
   },
   "outputs": [
    {
     "name": "stdout",
     "output_type": "stream",
     "text": [
      "[1, 1, 0]\n",
      "['Great CD: My lovely Pat has one of the GREAT voices of her generation. I have listened to this CD for YEARS and I still LOVE IT. When I\\'m in a good mood it makes me feel better. A bad mood just evaporates like sugar in the rain. This CD just oozes LIFE. Vocals are jusat STUUNNING and lyrics just kill. One of life\\'s hidden gems. This is a desert isle CD in my book. Why she never made it big is just beyond me. Everytime I play this, no matter black, white, young, old, male, female EVERYBODY says one thing \"Who was that singing ?\"', \"One of the best game music soundtracks - for a game I didn't really play: Despite the fact that I have only played a small portion of the game, the music I heard (plus the connection to Chrono Trigger which was great as well) led me to purchase the soundtrack, and it remains one of my favorite albums. There is an incredible mix of fun, epic, and emotional songs. Those sad and beautiful tracks I especially like, as there's not too many of those kinds of songs in my other video game soundtracks. I must admit that one of the songs (Life-A Distant Promise) has brought tears to my eyes on many occasions.My one complaint about this soundtrack is that they use guitar fretting effects in many of the songs, which I find distracting. But even if those weren't included I would still consider the collection worth it.\", 'Batteries died within a year ...: I bought this charger in Jul 2003 and it worked OK for a while. The design is nice and convenient. However, after about a year, the batteries would not hold a charge. Might as well just get alkaline disposables, or look elsewhere for a charger that comes with batteries that have better staying power.']\n"
     ]
    }
   ],
   "source": [
    "test_labels = [0 if x.split(' ')[0] == '__label__1' else 1 for x in test]\n",
    "test_corpus = [x.split(' ', 1)[1][:-1] for x in test]\n",
    "\n",
    "print(test_labels[:3])\n",
    "print(test_corpus[:3])\n"
   ]
  },
  {
   "cell_type": "code",
   "execution_count": 12,
   "metadata": {
    "scrolled": true
   },
   "outputs": [
    {
     "data": {
      "text/plain": [
       "0"
      ]
     },
     "execution_count": 12,
     "metadata": {},
     "output_type": "execute_result"
    }
   ],
   "source": [
    "del test\n",
    "gc.collect()\n"
   ]
  },
  {
   "cell_type": "code",
   "execution_count": 13,
   "metadata": {},
   "outputs": [
    {
     "data": {
      "text/html": [
       "<div>\n",
       "<style scoped>\n",
       "    .dataframe tbody tr th:only-of-type {\n",
       "        vertical-align: middle;\n",
       "    }\n",
       "\n",
       "    .dataframe tbody tr th {\n",
       "        vertical-align: top;\n",
       "    }\n",
       "\n",
       "    .dataframe thead th {\n",
       "        text-align: right;\n",
       "    }\n",
       "</style>\n",
       "<table border=\"1\" class=\"dataframe\">\n",
       "  <thead>\n",
       "    <tr style=\"text-align: right;\">\n",
       "      <th></th>\n",
       "      <th>text</th>\n",
       "      <th>labels</th>\n",
       "    </tr>\n",
       "  </thead>\n",
       "  <tbody>\n",
       "    <tr>\n",
       "      <th>0</th>\n",
       "      <td>Great CD: My lovely Pat has one of the GREAT v...</td>\n",
       "      <td>1</td>\n",
       "    </tr>\n",
       "    <tr>\n",
       "      <th>1</th>\n",
       "      <td>One of the best game music soundtracks - for a...</td>\n",
       "      <td>1</td>\n",
       "    </tr>\n",
       "    <tr>\n",
       "      <th>2</th>\n",
       "      <td>Batteries died within a year ...: I bought thi...</td>\n",
       "      <td>0</td>\n",
       "    </tr>\n",
       "    <tr>\n",
       "      <th>3</th>\n",
       "      <td>works fine, but Maha Energy is better: Check o...</td>\n",
       "      <td>1</td>\n",
       "    </tr>\n",
       "    <tr>\n",
       "      <th>4</th>\n",
       "      <td>Great for the non-audiophile: Reviewed quite a...</td>\n",
       "      <td>1</td>\n",
       "    </tr>\n",
       "  </tbody>\n",
       "</table>\n",
       "</div>"
      ],
      "text/plain": [
       "                                                text  labels\n",
       "0  Great CD: My lovely Pat has one of the GREAT v...       1\n",
       "1  One of the best game music soundtracks - for a...       1\n",
       "2  Batteries died within a year ...: I bought thi...       0\n",
       "3  works fine, but Maha Energy is better: Check o...       1\n",
       "4  Great for the non-audiophile: Reviewed quite a...       1"
      ]
     },
     "execution_count": 13,
     "metadata": {},
     "output_type": "execute_result"
    }
   ],
   "source": [
    "test_dict = {'text': test_corpus, 'labels': test_labels}\n",
    "test_df = pd.DataFrame(test_dict)\n",
    "\n",
    "test_df.head()\n"
   ]
  },
  {
   "cell_type": "code",
   "execution_count": 14,
   "metadata": {
    "scrolled": true
   },
   "outputs": [
    {
     "data": {
      "text/html": [
       "<div>\n",
       "<style scoped>\n",
       "    .dataframe tbody tr th:only-of-type {\n",
       "        vertical-align: middle;\n",
       "    }\n",
       "\n",
       "    .dataframe tbody tr th {\n",
       "        vertical-align: top;\n",
       "    }\n",
       "\n",
       "    .dataframe thead th {\n",
       "        text-align: right;\n",
       "    }\n",
       "</style>\n",
       "<table border=\"1\" class=\"dataframe\">\n",
       "  <thead>\n",
       "    <tr style=\"text-align: right;\">\n",
       "      <th></th>\n",
       "      <th>labels</th>\n",
       "    </tr>\n",
       "  </thead>\n",
       "  <tbody>\n",
       "    <tr>\n",
       "      <th>count</th>\n",
       "      <td>400000.000000</td>\n",
       "    </tr>\n",
       "    <tr>\n",
       "      <th>mean</th>\n",
       "      <td>0.500000</td>\n",
       "    </tr>\n",
       "    <tr>\n",
       "      <th>std</th>\n",
       "      <td>0.500001</td>\n",
       "    </tr>\n",
       "    <tr>\n",
       "      <th>min</th>\n",
       "      <td>0.000000</td>\n",
       "    </tr>\n",
       "    <tr>\n",
       "      <th>25%</th>\n",
       "      <td>0.000000</td>\n",
       "    </tr>\n",
       "    <tr>\n",
       "      <th>50%</th>\n",
       "      <td>0.500000</td>\n",
       "    </tr>\n",
       "    <tr>\n",
       "      <th>75%</th>\n",
       "      <td>1.000000</td>\n",
       "    </tr>\n",
       "    <tr>\n",
       "      <th>max</th>\n",
       "      <td>1.000000</td>\n",
       "    </tr>\n",
       "  </tbody>\n",
       "</table>\n",
       "</div>"
      ],
      "text/plain": [
       "              labels\n",
       "count  400000.000000\n",
       "mean        0.500000\n",
       "std         0.500001\n",
       "min         0.000000\n",
       "25%         0.000000\n",
       "50%         0.500000\n",
       "75%         1.000000\n",
       "max         1.000000"
      ]
     },
     "execution_count": 14,
     "metadata": {},
     "output_type": "execute_result"
    }
   ],
   "source": [
    "test_df.describe()\n"
   ]
  },
  {
   "cell_type": "code",
   "execution_count": 15,
   "metadata": {},
   "outputs": [
    {
     "data": {
      "text/plain": [
       "7"
      ]
     },
     "execution_count": 15,
     "metadata": {},
     "output_type": "execute_result"
    }
   ],
   "source": [
    "del test_corpus, test_labels\n",
    "gc.collect()\n"
   ]
  },
  {
   "cell_type": "code",
   "execution_count": 16,
   "metadata": {},
   "outputs": [
    {
     "data": {
      "text/html": [
       "<div>\n",
       "<style scoped>\n",
       "    .dataframe tbody tr th:only-of-type {\n",
       "        vertical-align: middle;\n",
       "    }\n",
       "\n",
       "    .dataframe tbody tr th {\n",
       "        vertical-align: top;\n",
       "    }\n",
       "\n",
       "    .dataframe thead th {\n",
       "        text-align: right;\n",
       "    }\n",
       "</style>\n",
       "<table border=\"1\" class=\"dataframe\">\n",
       "  <thead>\n",
       "    <tr style=\"text-align: right;\">\n",
       "      <th></th>\n",
       "      <th>labels</th>\n",
       "    </tr>\n",
       "  </thead>\n",
       "  <tbody>\n",
       "    <tr>\n",
       "      <th>count</th>\n",
       "      <td>40000.000000</td>\n",
       "    </tr>\n",
       "    <tr>\n",
       "      <th>mean</th>\n",
       "      <td>0.499950</td>\n",
       "    </tr>\n",
       "    <tr>\n",
       "      <th>std</th>\n",
       "      <td>0.500006</td>\n",
       "    </tr>\n",
       "    <tr>\n",
       "      <th>min</th>\n",
       "      <td>0.000000</td>\n",
       "    </tr>\n",
       "    <tr>\n",
       "      <th>25%</th>\n",
       "      <td>0.000000</td>\n",
       "    </tr>\n",
       "    <tr>\n",
       "      <th>50%</th>\n",
       "      <td>0.000000</td>\n",
       "    </tr>\n",
       "    <tr>\n",
       "      <th>75%</th>\n",
       "      <td>1.000000</td>\n",
       "    </tr>\n",
       "    <tr>\n",
       "      <th>max</th>\n",
       "      <td>1.000000</td>\n",
       "    </tr>\n",
       "  </tbody>\n",
       "</table>\n",
       "</div>"
      ],
      "text/plain": [
       "             labels\n",
       "count  40000.000000\n",
       "mean       0.499950\n",
       "std        0.500006\n",
       "min        0.000000\n",
       "25%        0.000000\n",
       "50%        0.000000\n",
       "75%        1.000000\n",
       "max        1.000000"
      ]
     },
     "execution_count": 16,
     "metadata": {},
     "output_type": "execute_result"
    }
   ],
   "source": [
    "test_df = test_df.sample(frac = .1)\n",
    "test_df.describe()\n"
   ]
  },
  {
   "cell_type": "code",
   "execution_count": 17,
   "metadata": {},
   "outputs": [
    {
     "data": {
      "text/html": [
       "<div>\n",
       "<style scoped>\n",
       "    .dataframe tbody tr th:only-of-type {\n",
       "        vertical-align: middle;\n",
       "    }\n",
       "\n",
       "    .dataframe tbody tr th {\n",
       "        vertical-align: top;\n",
       "    }\n",
       "\n",
       "    .dataframe thead th {\n",
       "        text-align: right;\n",
       "    }\n",
       "</style>\n",
       "<table border=\"1\" class=\"dataframe\">\n",
       "  <thead>\n",
       "    <tr style=\"text-align: right;\">\n",
       "      <th></th>\n",
       "      <th>labels</th>\n",
       "    </tr>\n",
       "  </thead>\n",
       "  <tbody>\n",
       "    <tr>\n",
       "      <th>count</th>\n",
       "      <td>360000.000000</td>\n",
       "    </tr>\n",
       "    <tr>\n",
       "      <th>mean</th>\n",
       "      <td>0.500406</td>\n",
       "    </tr>\n",
       "    <tr>\n",
       "      <th>std</th>\n",
       "      <td>0.500001</td>\n",
       "    </tr>\n",
       "    <tr>\n",
       "      <th>min</th>\n",
       "      <td>0.000000</td>\n",
       "    </tr>\n",
       "    <tr>\n",
       "      <th>25%</th>\n",
       "      <td>0.000000</td>\n",
       "    </tr>\n",
       "    <tr>\n",
       "      <th>50%</th>\n",
       "      <td>1.000000</td>\n",
       "    </tr>\n",
       "    <tr>\n",
       "      <th>75%</th>\n",
       "      <td>1.000000</td>\n",
       "    </tr>\n",
       "    <tr>\n",
       "      <th>max</th>\n",
       "      <td>1.000000</td>\n",
       "    </tr>\n",
       "  </tbody>\n",
       "</table>\n",
       "</div>"
      ],
      "text/plain": [
       "              labels\n",
       "count  360000.000000\n",
       "mean        0.500406\n",
       "std         0.500001\n",
       "min         0.000000\n",
       "25%         0.000000\n",
       "50%         1.000000\n",
       "75%         1.000000\n",
       "max         1.000000"
      ]
     },
     "execution_count": 17,
     "metadata": {},
     "output_type": "execute_result"
    }
   ],
   "source": [
    "train_df = train_df.sample(frac = .1)\n",
    "train_df.describe()\n"
   ]
  },
  {
   "cell_type": "code",
   "execution_count": 18,
   "metadata": {},
   "outputs": [],
   "source": [
    "def normalize_text (row) : \n",
    "    RE_PREPROCESS = r'\\W+|\\d+'\n",
    "    return re.sub(RE_PREPROCESS, ' ', row.text).lower()\n",
    "\n",
    "train_df['clean_text'] = train_df.apply(normalize_text, axis=1)\n",
    "test_df['clean_text'] = test_df.apply(normalize_text, axis=1)\n"
   ]
  },
  {
   "cell_type": "code",
   "execution_count": 19,
   "metadata": {},
   "outputs": [
    {
     "data": {
      "text/html": [
       "<div>\n",
       "<style scoped>\n",
       "    .dataframe tbody tr th:only-of-type {\n",
       "        vertical-align: middle;\n",
       "    }\n",
       "\n",
       "    .dataframe tbody tr th {\n",
       "        vertical-align: top;\n",
       "    }\n",
       "\n",
       "    .dataframe thead th {\n",
       "        text-align: right;\n",
       "    }\n",
       "</style>\n",
       "<table border=\"1\" class=\"dataframe\">\n",
       "  <thead>\n",
       "    <tr style=\"text-align: right;\">\n",
       "      <th></th>\n",
       "      <th>labels</th>\n",
       "    </tr>\n",
       "  </thead>\n",
       "  <tbody>\n",
       "    <tr>\n",
       "      <th>count</th>\n",
       "      <td>400000.00000</td>\n",
       "    </tr>\n",
       "    <tr>\n",
       "      <th>mean</th>\n",
       "      <td>0.50036</td>\n",
       "    </tr>\n",
       "    <tr>\n",
       "      <th>std</th>\n",
       "      <td>0.50000</td>\n",
       "    </tr>\n",
       "    <tr>\n",
       "      <th>min</th>\n",
       "      <td>0.00000</td>\n",
       "    </tr>\n",
       "    <tr>\n",
       "      <th>25%</th>\n",
       "      <td>0.00000</td>\n",
       "    </tr>\n",
       "    <tr>\n",
       "      <th>50%</th>\n",
       "      <td>1.00000</td>\n",
       "    </tr>\n",
       "    <tr>\n",
       "      <th>75%</th>\n",
       "      <td>1.00000</td>\n",
       "    </tr>\n",
       "    <tr>\n",
       "      <th>max</th>\n",
       "      <td>1.00000</td>\n",
       "    </tr>\n",
       "  </tbody>\n",
       "</table>\n",
       "</div>"
      ],
      "text/plain": [
       "             labels\n",
       "count  400000.00000\n",
       "mean        0.50036\n",
       "std         0.50000\n",
       "min         0.00000\n",
       "25%         0.00000\n",
       "50%         1.00000\n",
       "75%         1.00000\n",
       "max         1.00000"
      ]
     },
     "execution_count": 19,
     "metadata": {},
     "output_type": "execute_result"
    }
   ],
   "source": [
    "sample_reviews = pd.concat([test_df, train_df])\n",
    "sample_reviews.describe()\n"
   ]
  },
  {
   "cell_type": "markdown",
   "metadata": {},
   "source": [
    "#### Top 100 Term Frequencies from All Review Samples"
   ]
  },
  {
   "cell_type": "code",
   "execution_count": 20,
   "metadata": {},
   "outputs": [
    {
     "name": "stdout",
     "output_type": "stream",
     "text": [
      "book          218995\n",
      "one           153479\n",
      "great         118713\n",
      "good          115811\n",
      "like          114396\n",
      "would          94000\n",
      "read           78580\n",
      "get            76440\n",
      "time           75111\n",
      "movie          66858\n",
      "really         63679\n",
      "well           61538\n",
      "much           56631\n",
      "first          56170\n",
      "even           56056\n",
      "love           52358\n",
      "buy            50141\n",
      "product        49389\n",
      "best           47184\n",
      "cd             46497\n",
      "better         45898\n",
      "use            45264\n",
      "work           43851\n",
      "also           42731\n",
      "bought         41310\n",
      "could          41020\n",
      "new            40021\n",
      "story          39637\n",
      "album          39455\n",
      "way            39147\n",
      "little         38675\n",
      "money          37237\n",
      "back           37210\n",
      "many           37115\n",
      "think          36535\n",
      "music          35100\n",
      "make           34845\n",
      "never          34450\n",
      "know           34384\n",
      "two            34233\n",
      "still          34066\n",
      "got            33825\n",
      "bad            33166\n",
      "ever           32266\n",
      "see            32189\n",
      "made           32101\n",
      "want           31757\n",
      "people         31667\n",
      "old            31469\n",
      "books          30685\n",
      "find           30298\n",
      "years          30249\n",
      "quality        29455\n",
      "recommend      29445\n",
      "used           28793\n",
      "dvd            28546\n",
      "go             28174\n",
      "game           27818\n",
      "another        27525\n",
      "reading        26947\n",
      "life           26350\n",
      "found          26304\n",
      "say            26240\n",
      "every          25079\n",
      "put            24884\n",
      "songs          24731\n",
      "worth          24509\n",
      "thing          24404\n",
      "something      23803\n",
      "thought        23694\n",
      "price          23653\n",
      "easy           23463\n",
      "long           22928\n",
      "film           22721\n",
      "amazon         22450\n",
      "works          22265\n",
      "lot            22186\n",
      "year           21894\n",
      "sound          21819\n",
      "however        21564\n",
      "must           21536\n",
      "give           21399\n",
      "hard           21231\n",
      "need           21018\n",
      "right          20953\n",
      "looking        20839\n",
      "since          20759\n",
      "going          20723\n",
      "excellent      20698\n",
      "nice           20489\n",
      "characters     20365\n",
      "author         20153\n",
      "enough         20133\n",
      "waste          19996\n",
      "real           19850\n",
      "nothing        19800\n",
      "set            19708\n",
      "day            19699\n",
      "look           19660\n",
      "anyone         19593\n",
      "dtype: int64\n"
     ]
    }
   ],
   "source": [
    "all_sample_reviews = pd.Series(' '.join(sample_reviews['clean_text']).lower().split()).value_counts()\n",
    "top_100_terms = all_sample_reviews[~all_sample_reviews.index.isin(stopwords.words('english'))][:100]\n",
    "print(top_100_terms)\n",
    "\n",
    "top_n_terms = top_100_terms[:2].index.values.tolist()\n"
   ]
  },
  {
   "cell_type": "markdown",
   "metadata": {},
   "source": [
    "#### Top 100 Word Frequencies from Negative Review Samples"
   ]
  },
  {
   "cell_type": "code",
   "execution_count": 21,
   "metadata": {},
   "outputs": [
    {
     "data": {
      "text/plain": [
       "book            105437\n",
       "one              78827\n",
       "like             60259\n",
       "would            58194\n",
       "good             48832\n",
       "get              43987\n",
       "time             40427\n",
       "movie            36262\n",
       "even             35588\n",
       "read             33186\n",
       "buy              32094\n",
       "much             31550\n",
       "product          31260\n",
       "money            30967\n",
       "really           30927\n",
       "first            28970\n",
       "work             27108\n",
       "better           26859\n",
       "great            26738\n",
       "bad              25850\n",
       "could            25122\n",
       "bought           24711\n",
       "use              23552\n",
       "well             23220\n",
       "back             22360\n",
       "way              20859\n",
       "never            20513\n",
       "got              19855\n",
       "new              19728\n",
       "two              19531\n",
       "waste            19365\n",
       "make             18789\n",
       "cd               18718\n",
       "also             18610\n",
       "think            18519\n",
       "made             18486\n",
       "know             18250\n",
       "many             17619\n",
       "want             17512\n",
       "quality          17484\n",
       "story            17070\n",
       "little           16682\n",
       "people           16585\n",
       "see              16317\n",
       "another          16290\n",
       "dvd              16050\n",
       "disappointed     15943\n",
       "used             15800\n",
       "ever             15632\n",
       "old              15296\n",
       "nothing          15258\n",
       "thing            15053\n",
       "something        15023\n",
       "still            14975\n",
       "books            14846\n",
       "amazon           14732\n",
       "find             14708\n",
       "go               14679\n",
       "album            14262\n",
       "game             14249\n",
       "thought          14228\n",
       "say              14164\n",
       "found            13472\n",
       "music            13278\n",
       "poor             12941\n",
       "however          12889\n",
       "years            12740\n",
       "love             12677\n",
       "worth            12613\n",
       "reading          12541\n",
       "author           12427\n",
       "give             12348\n",
       "put              12287\n",
       "going            12283\n",
       "film             12214\n",
       "hard             11814\n",
       "worst            11689\n",
       "reviews          11608\n",
       "best             11313\n",
       "long             11257\n",
       "year             11216\n",
       "looking          11044\n",
       "recommend        11042\n",
       "boring           10988\n",
       "sound            10983\n",
       "enough           10950\n",
       "characters       10688\n",
       "right            10685\n",
       "every            10554\n",
       "last             10523\n",
       "problem          10510\n",
       "real             10419\n",
       "since            10331\n",
       "purchased        10320\n",
       "tried            10299\n",
       "look             10200\n",
       "lot              10170\n",
       "item             10157\n",
       "anything          9998\n",
       "times             9848\n",
       "dtype: int64"
      ]
     },
     "execution_count": 21,
     "metadata": {},
     "output_type": "execute_result"
    }
   ],
   "source": [
    "negative_reviews = sample_reviews[sample_reviews.labels == 0]\n",
    "negative_reviews = pd.Series(' '.join(negative_reviews['clean_text']).lower().split()).value_counts()\n",
    "negative_reviews[~negative_reviews.index.isin(stopwords.words('english'))][:100]\n"
   ]
  },
  {
   "cell_type": "markdown",
   "metadata": {},
   "source": [
    "#### Top 100 Term Frequencies from Positive Review Samples"
   ]
  },
  {
   "cell_type": "code",
   "execution_count": 22,
   "metadata": {},
   "outputs": [
    {
     "data": {
      "text/plain": [
       "book          113558\n",
       "great          91975\n",
       "one            74652\n",
       "good           66979\n",
       "like           54137\n",
       "read           45394\n",
       "love           39681\n",
       "well           38318\n",
       "best           35871\n",
       "would          35806\n",
       "time           34684\n",
       "really         32752\n",
       "get            32453\n",
       "movie          30596\n",
       "cd             27779\n",
       "first          27200\n",
       "album          25193\n",
       "much           25081\n",
       "also           24121\n",
       "story          22567\n",
       "little         21993\n",
       "music          21822\n",
       "use            21712\n",
       "even           20468\n",
       "new            20293\n",
       "many           19496\n",
       "still          19091\n",
       "better         19039\n",
       "recommend      18403\n",
       "easy           18371\n",
       "way            18288\n",
       "product        18129\n",
       "buy            18047\n",
       "excellent      18037\n",
       "think          18016\n",
       "life           17613\n",
       "years          17509\n",
       "work           16743\n",
       "ever           16634\n",
       "bought         16599\n",
       "old            16173\n",
       "know           16134\n",
       "make           16056\n",
       "could          15898\n",
       "see            15872\n",
       "books          15839\n",
       "find           15590\n",
       "people         15082\n",
       "songs          14961\n",
       "back           14850\n",
       "two            14702\n",
       "price          14646\n",
       "must           14630\n",
       "every          14525\n",
       "reading        14406\n",
       "works          14271\n",
       "want           14245\n",
       "fun            13971\n",
       "got            13970\n",
       "never          13937\n",
       "made           13615\n",
       "game           13569\n",
       "go             13495\n",
       "nice           13266\n",
       "used           12993\n",
       "found          12832\n",
       "put            12597\n",
       "dvd            12496\n",
       "wonderful      12085\n",
       "say            12076\n",
       "lot            12016\n",
       "quality        11971\n",
       "worth          11896\n",
       "long           11671\n",
       "anyone         11454\n",
       "series         11292\n",
       "another        11235\n",
       "need           11228\n",
       "perfect        11203\n",
       "highly         10882\n",
       "makes          10879\n",
       "sound          10836\n",
       "set            10716\n",
       "year           10678\n",
       "song           10568\n",
       "film           10507\n",
       "day            10486\n",
       "since          10428\n",
       "loved          10272\n",
       "right          10268\n",
       "always         10047\n",
       "though         10044\n",
       "favorite        9837\n",
       "looking         9795\n",
       "fan             9785\n",
       "different       9761\n",
       "characters      9677\n",
       "bit             9602\n",
       "world           9541\n",
       "thought         9466\n",
       "dtype: int64"
      ]
     },
     "execution_count": 22,
     "metadata": {},
     "output_type": "execute_result"
    }
   ],
   "source": [
    "positive_reviews = sample_reviews[sample_reviews.labels == 1]\n",
    "positive_reviews = pd.Series(' '.join(positive_reviews['clean_text']).lower().split()).value_counts()\n",
    "positive_reviews[~positive_reviews.index.isin(stopwords.words('english'))][:100]\n"
   ]
  },
  {
   "cell_type": "code",
   "execution_count": 23,
   "metadata": {},
   "outputs": [
    {
     "data": {
      "text/plain": [
       "63"
      ]
     },
     "execution_count": 23,
     "metadata": {},
     "output_type": "execute_result"
    }
   ],
   "source": [
    "del sample_reviews, negative_reviews, positive_reviews, all_sample_reviews, top_100_terms\n",
    "gc.collect()\n"
   ]
  },
  {
   "cell_type": "code",
   "execution_count": 24,
   "metadata": {},
   "outputs": [],
   "source": [
    "train_labels = train_df.labels.values\n",
    "train_corpus = train_df.clean_text.values\n",
    "test_labels = test_df.labels.values\n",
    "test_corpus = test_df.clean_text.values\n"
   ]
  },
  {
   "cell_type": "markdown",
   "metadata": {},
   "source": [
    "### Count Vectorizer, TFIDF Transformer, & Naive Bayes Pipeline: Model Training"
   ]
  },
  {
   "cell_type": "code",
   "execution_count": 25,
   "metadata": {},
   "outputs": [],
   "source": [
    "stemmer = PorterStemmer()\n",
    "tokenize = lambda x: [stemmer.stem(i) for i in x.split()]\n",
    "text_clf = Pipeline([('vect', CountVectorizer(tokenizer=tokenize,\n",
    "                                              ngram_range=(0, 2),\n",
    "                                              stop_words= stopwords.words('english') + top_n_terms)),\n",
    "                     ('tfidf', TfidfTransformer()),\n",
    "                     ('clf', MultinomialNB())])\n",
    "\n",
    "mdl = text_clf.fit(train_corpus, train_labels)\n",
    "y_score_train = mdl.predict_proba(train_corpus)\n",
    "y_score_test = mdl.predict_proba(test_corpus)\n"
   ]
  },
  {
   "cell_type": "markdown",
   "metadata": {},
   "source": [
    "###  Naive Bayes Model Evaluation"
   ]
  },
  {
   "cell_type": "code",
   "execution_count": 26,
   "metadata": {},
   "outputs": [
    {
     "name": "stdout",
     "output_type": "stream",
     "text": [
      "Train AUC-PR: 0.988078\n"
     ]
    }
   ],
   "source": [
    "train_fpr, train_tpr, train_thresholds = roc_curve(train_labels, y_score_train[:, 1])\n",
    "train_roc_auc = auc(train_fpr, train_tpr)\n",
    "\n",
    "print('Train AUC-PR: {0:1f}'.format(train_roc_auc))\n"
   ]
  },
  {
   "cell_type": "code",
   "execution_count": 27,
   "metadata": {},
   "outputs": [
    {
     "name": "stdout",
     "output_type": "stream",
     "text": [
      "Test AUC-PR: 0.950662\n"
     ]
    }
   ],
   "source": [
    "test_fpr, test_tpr, test_thresholds = roc_curve(test_labels, y_score_test[:, 1])\n",
    "test_roc_auc = auc(test_fpr, test_tpr)\n",
    "\n",
    "print('Test AUC-PR: {0:1f}'.format(test_roc_auc))\n"
   ]
  },
  {
   "cell_type": "code",
   "execution_count": 28,
   "metadata": {},
   "outputs": [
    {
     "data": {
      "image/png": "[encoded data removed]",
      "text/plain": [
       "<Figure size 504x504 with 1 Axes>"
      ]
     },
     "metadata": {
      "needs_background": "light"
     },
     "output_type": "display_data"
    }
   ],
   "source": [
    "figure(figsize=(7, 7))\n",
    "plt.title('Receiver Operating Characteristic')\n",
    "plt.plot([0,1],[0,1],'r--')\n",
    "plt.plot(train_fpr, train_tpr, 'b', label='Train AUC = %0.2f'% train_roc_auc)\n",
    "plt.plot(test_fpr, test_tpr, 'g', label='Test AUC = %0.2f'% test_roc_auc)\n",
    "plt.legend(loc='lower right')\n",
    "plt.ylabel('True Positive Rate')\n",
    "plt.xlabel('False Positive Rate')\n",
    "plt.show()\n"
   ]
  }
 ],
 "metadata": {
  "kernelspec": {
   "display_name": "Python 3",
   "language": "python",
   "name": "python3"
  },
  "language_info": {
   "codemirror_mode": {
    "name": "ipython",
    "version": 3
   },
   "file_extension": ".py",
   "mimetype": "text/x-python",
   "name": "python",
   "nbconvert_exporter": "python",
   "pygments_lexer": "ipython3",
   "version": "3.7.0"
  }
 },
 "nbformat": 4,
 "nbformat_minor": 1
}
